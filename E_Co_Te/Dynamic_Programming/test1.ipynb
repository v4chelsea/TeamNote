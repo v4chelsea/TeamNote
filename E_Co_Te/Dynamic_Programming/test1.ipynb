{
 "cells": [
  {
   "cell_type": "markdown",
   "metadata": {},
   "source": [
    "### 다이나믹 프로그래밍 : 메모리를 적절히 사용하여 수행시간의 효율성을 비약적으로 향상시킴\n",
    " - 이미 계산된 결과(작은 문제)는 별도의 메모리 영역에 저장하여 다시 계산하지 않도록 함\n",
    " - 일반적으로 Bottom Up(상향식), Top Down(하향식)방식으로 구성되어있음\n",
    "\n",
    "### 다이나믹 프로그래밍 == 동적 계획법\n",
    " - 자료구조에서의 동적 할당 => 프로그램이 실행되는 도중에 실행에 필요한 메모리를 할당하는 기법\n",
    "\n",
    "### 다이나믹 프로그래밍을 사용할수 있는 조건\n",
    " 1. 최적 부분 구조 (Optimal Substructure)\n",
    "    - 큰 문제를 작은 문제로 나눌 수 있으며 작은 문제의 답을 모아서 큰 문제를 해결 할 수 있다.\n",
    " 2. 중복되는 부분 문제 (Overlapping Subproblem)\n",
    "    - 동일한 작은 문제를 반복적으로 해결해야 한다\n",
    "\n",
    "### 다이나믹 프로그래밍으로 풀 수 있는 대표 문제 : 피보나치 수열\n",
    " - 1, 1, 2, 3, 5, 8, 13, 21, 34, 55, 89 ... 로 이어지는 형태의 수열\n",
    "# $$ a_n = a_{n-1} + a_{n-2}, a_1 = 1, a_2 = 1 $$\n",
    " - 프로그래밍에서는 리스트를 활용해 수열을 표현"
   ]
  },
  {
   "cell_type": "markdown",
   "metadata": {},
   "source": [
    "피보나치 수열의 단순 재귀 코드\n",
    " - 단순 재귀 코드로 수행하면 지수 시간복잡도를 갖게 됨 (동일한 함수가 여러번 호출)\n",
    "\n",
    "피보나치 수열의 시간 복잡도\n",
    " - O(2의 N제곱)\n",
    " - 빅오 표기법을 기준으로 f(30)을 수행하기 위해 약 10억회 가량의 연산이 필요...\n"
   ]
  },
  {
   "cell_type": "code",
   "execution_count": 1,
   "metadata": {},
   "outputs": [
    {
     "name": "stdout",
     "output_type": "stream",
     "text": [
      "3\n"
     ]
    }
   ],
   "source": [
    "def fibo(x):\n",
    "    # 어차피 1, 2번째 값은 1이니까 return 1\n",
    "    if x == 1 or x == 2:\n",
    "        return 1\n",
    "    return fibo(x-1) + fibo(x-2)\n",
    "\n",
    "print(fibo(4))"
   ]
  },
  {
   "cell_type": "markdown",
   "metadata": {},
   "source": [
    "\n",
    "피보나치 수열의 효율적 해법\n",
    " - 사용 조건 만족 확인\n",
    "   1. 최적 부분 구조 : 큰 문제를 작은 문제로 나눌 수 있습니다.\n",
    "   2. 중복되는 부분 문제 : 동일한 작은 문제를 반복적으로 해결합니다.\n",
    "   \n",
    "메모이제이션 (Memoization)\n",
    " - 한번 계산한 결과를 메모리 공간에 메모해두는 기법\n",
    " - 같은 문제를 다시 호출하면 메모했던 결과를 그대로 가져옵니다.\n",
    " - 캐싱(Caching) : 값을 기록해 놓는다.\n",
    "\n",
    "Top Down vs Bottom Up\n",
    " - 다이나믹 프로그래밍의 전형적인 형태는 Bottom Up(반복문 사용)\n",
    " - DP테이블 : 결과 저장용 List"
   ]
  },
  {
   "cell_type": "markdown",
   "metadata": {},
   "source": [
    "피보나치 수열 : 탑다운 다이나믹 프로그래밍 코드"
   ]
  },
  {
   "cell_type": "code",
   "execution_count": 6,
   "metadata": {},
   "outputs": [
    {
     "name": "stdout",
     "output_type": "stream",
     "text": [
      "86168291600238450732788312165664788095941068326060883324529903470149056115823592713458328176574447204501\n"
     ]
    }
   ],
   "source": [
    "count = int(input())\n",
    "dp_table = [0] * count\n",
    "\n",
    "def fibo(x):\n",
    "    if x == 1 or x == 2:\n",
    "        return 1\n",
    "\n",
    "    if dp_table[x] != 0:\n",
    "        return dp_table[x]\n",
    "\n",
    "    dp_table[x] = fibo(x-1) + fibo(x-2)\n",
    "\n",
    "    return dp_table[x]\n",
    "\n",
    "print(fibo(count-1))"
   ]
  },
  {
   "cell_type": "markdown",
   "metadata": {},
   "source": [
    "피보나치 수열 : 보텀업 다이나믹 프로그래밍 코드"
   ]
  },
  {
   "cell_type": "code",
   "execution_count": 26,
   "metadata": {},
   "outputs": [
    {
     "name": "stdout",
     "output_type": "stream",
     "text": [
      "218922995834555169026\n"
     ]
    }
   ],
   "source": [
    "count = int(input())\n",
    "dp_table = [0] * count\n",
    "\n",
    "dp_table[1] = 1\n",
    "dp_table[2] = 1\n",
    "\n",
    "for i in range(2, count):\n",
    "    dp_table[i] = dp_table[i-1] + dp_table[i-2]\n",
    "\n",
    "print(dp_table[count-1])"
   ]
  },
  {
   "cell_type": "markdown",
   "metadata": {},
   "source": [
    "메모제이션을 활용하는 경우 피보나치 수열 함수의 시간 복잡도 = O(N)"
   ]
  },
  {
   "cell_type": "markdown",
   "metadata": {},
   "source": [
    "다이나믹 프로그래밍 VS 분할 정복\n",
    " - 다이나믹 프로그래밍 & 분할 정복은 모두 최적 부분 구조를 가질 때 사용 할 수 있음\n",
    "   - 큰 문제를 작은 문제로 나눌 수 있으며 작은 문제의 답을 모아서 큰 문제를 해결 할 수 있어야 함\n",
    " - 다이나믹 프로그래밍과 분할 정복의 큰 차이는 부분 문제의 중복\n",
    "   - 다이나믹 프로그래밍 문제는 각 부분 문제들이 서로 영향을 미치며 부분 문제가 중복 됨\n",
    "   - 분할 정복 문제에서는 동일한 부분 문제가 반복적으로 계산되지 않음"
   ]
  }
 ],
 "metadata": {
  "interpreter": {
   "hash": "b3ba2566441a7c06988d0923437866b63cedc61552a5af99d1f4fb67d367b25f"
  },
  "kernelspec": {
   "display_name": "Python 3.8.3 64-bit ('base': conda)",
   "name": "python3"
  },
  "language_info": {
   "codemirror_mode": {
    "name": "ipython",
    "version": 3
   },
   "file_extension": ".py",
   "mimetype": "text/x-python",
   "name": "python",
   "nbconvert_exporter": "python",
   "pygments_lexer": "ipython3",
   "version": "3.8.3"
  },
  "orig_nbformat": 4
 },
 "nbformat": 4,
 "nbformat_minor": 2
}
