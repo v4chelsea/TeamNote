{
 "cells": [
  {
   "cell_type": "markdown",
   "metadata": {},
   "source": [
    "선택 정렬 알고리즘"
   ]
  },
  {
   "cell_type": "code",
   "execution_count": 2,
   "metadata": {},
   "outputs": [
    {
     "name": "stdout",
     "output_type": "stream",
     "text": [
      "[0, 1, 2, 3, 4, 5, 6, 7, 8, 9]\n"
     ]
    }
   ],
   "source": [
    "test = [7, 5, 9, 0, 3, 1, 6, 2, 4, 8]\n",
    "\n",
    "for i in range(len(test)):\n",
    "    min_index = i\n",
    "    for j in range(i + 1, len(test)):\n",
    "        if test[min_index] > test[j]:\n",
    "            min_index = j\n",
    "    test[i], test[min_index] = test[min_index], test[i]\n",
    "\n",
    "print(test)        "
   ]
  },
  {
   "cell_type": "markdown",
   "metadata": {},
   "source": [
    "삽입 정렬 알고리즘\n",
    " - 구현은 어렵지만 일반적으로 성능이 더 좋음"
   ]
  },
  {
   "cell_type": "code",
   "execution_count": 1,
   "metadata": {},
   "outputs": [
    {
     "name": "stdout",
     "output_type": "stream",
     "text": [
      "[0, 1, 2, 3, 4, 5, 6, 7, 8, 9]\n"
     ]
    }
   ],
   "source": [
    "test = [7, 5, 9, 0, 3, 1, 6, 2, 4, 8]\n",
    "\n",
    "for i in range(1, len(test)):\n",
    "    for j in range(i, 0, -1): # index i부터 1까지 1씩 감소\n",
    "        if test[j] < test[j-1]: # 한칸씩 왼쪽으로 이동\n",
    "            test[j], test[j-1] = test[j-1], test[j]\n",
    "        else: # 자기보다 작은데이터를 만나면 그위치에서 멈춤\n",
    "            break\n",
    "\n",
    "print(test)"
   ]
  },
  {
   "cell_type": "markdown",
   "metadata": {},
   "source": [
    "퀵 정렬 알고리즘\n",
    " - 첫번째 데이터를 기준 데이터로 설정"
   ]
  },
  {
   "cell_type": "code",
   "execution_count": 4,
   "metadata": {},
   "outputs": [
    {
     "name": "stdout",
     "output_type": "stream",
     "text": [
      "[0, 1, 2, 3, 4, 5, 6, 7, 8, 9]\n",
      "[0, 1, 2, 3, 4, 5, 6, 7, 8, 9]\n"
     ]
    }
   ],
   "source": [
    "test = [5, 7, 9, 0, 3, 1, 6, 2, 4, 8]\n",
    "\n",
    "def quick_sort(array, start, end):\n",
    "    if start >= end:\n",
    "        return\n",
    "    pivot = start\n",
    "    left = start + 1\n",
    "    right = end\n",
    "\n",
    "    while (left <= right):\n",
    "        while (left <= end  and array[left] <= array[pivot]):\n",
    "            left += 1\n",
    "        while (right > start and array[right] >= array[pivot]):\n",
    "            right -= 1\n",
    "\n",
    "        if(left > right):\n",
    "            array[right], array[pivot] = array[pivot], array[right]\n",
    "        else:\n",
    "            array[left], array[right] = array[right], array[left]\n",
    "\n",
    "    quick_sort(array, start, right-1)\n",
    "    quick_sort(array, right + 1, end)\n",
    "\n",
    "quick_sort(test, 0, len(test)-1)\n",
    "print(test)\n",
    "\n",
    "test = [5, 7, 9, 0, 3, 1, 6, 2, 4, 8]\n",
    "# 파이써닉 한 퀵정렬\n",
    "def quick_sort2(array):\n",
    "    if len(array) <= 1:\n",
    "        return array\n",
    "    pivot = array[0]\n",
    "    tail = array[1:]\n",
    "\n",
    "    left_side = [x for x in tail if x <= pivot]\n",
    "    right_side = [x for x in tail if x > pivot]\n",
    "\n",
    "    return quick_sort2(left_side) + [pivot] + quick_sort2(right_side)\n",
    "\n",
    "print(quick_sort2(test))"
   ]
  },
  {
   "cell_type": "markdown",
   "metadata": {},
   "source": [
    "계수 정렬 알고리즘\n",
    " - 데이터의 크기 범위가 제한되어 정수형태로 표현 가능할때 사용"
   ]
  },
  {
   "cell_type": "code",
   "execution_count": 6,
   "metadata": {},
   "outputs": [
    {
     "name": "stdout",
     "output_type": "stream",
     "text": [
      "0 0 1 1 2 2 3 4 5 5 6 7 8 9 9 "
     ]
    }
   ],
   "source": [
    "test = [7, 5, 9, 0, 3, 1, 6, 2, 9, 1, 4, 8, 0, 5, 2]\n",
    "count = [0] * (max(test) + 1)\n",
    "\n",
    "for i in range(len(test)):\n",
    "    count[test[i]] += 1\n",
    "\n",
    "for i in range(len(count)):\n",
    "    for j in range(count[i]):\n",
    "        print(i, end=\" \")"
   ]
  }
 ],
 "metadata": {
  "interpreter": {
   "hash": "63fd5069d213b44bf678585dea6b12cceca9941eaf7f819626cde1f2670de90d"
  },
  "kernelspec": {
   "display_name": "Python 3.9.5 64-bit",
   "name": "python3"
  },
  "language_info": {
   "codemirror_mode": {
    "name": "ipython",
    "version": 3
   },
   "file_extension": ".py",
   "mimetype": "text/x-python",
   "name": "python",
   "nbconvert_exporter": "python",
   "pygments_lexer": "ipython3",
   "version": "3.9.5"
  },
  "orig_nbformat": 4
 },
 "nbformat": 4,
 "nbformat_minor": 2
}
