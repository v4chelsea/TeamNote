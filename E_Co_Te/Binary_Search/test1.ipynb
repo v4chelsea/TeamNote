{
 "cells": [
  {
   "cell_type": "markdown",
   "metadata": {},
   "source": [
    "이진 탐색 알고리즘(재귀적 표현)"
   ]
  },
  {
   "cell_type": "code",
   "execution_count": 2,
   "metadata": {},
   "outputs": [
    {
     "name": "stdout",
     "output_type": "stream",
     "text": [
      "4 7\n"
     ]
    }
   ],
   "source": [
    "def binary_search(array, target, start, end):\n",
    "    # 원소 값이 없을경우 None을 반환\n",
    "    if start > end:\n",
    "        return None\n",
    "    # 중앙값은 start와 end의 값에서 소숫점을 버린 값\n",
    "    mid = (start + end) // 2\n",
    "    # 만양 중앙 인덱스가 target과 같으면 끝\n",
    "    if array[mid] == target:\n",
    "        return mid\n",
    "    # 만약 중앙값이 찾는값보다 작으면, 왼쪽 영역 확인\n",
    "    elif array[mid] > target: \n",
    "        return binary_search(array, target, start, mid-1)    \n",
    "    # 만약 중앙값이 찾는값보다 크면, 오른쪽 영역 확인\n",
    "    else:\n",
    "        return binary_search(array, target, mid+1, end)\n",
    "\n",
    "n, target = list(map(int, input().split()))\n",
    "array = list(map(int, input().split()))\n",
    "\n",
    "result = binary_search(array, target, 0, n-1)\n",
    "\n",
    "if result == None:\n",
    "    print(-1)\n",
    "else:\n",
    "    print(result+1, array[result])"
   ]
  },
  {
   "cell_type": "markdown",
   "metadata": {},
   "source": [
    "이진 탐색 알고리즘(반복문 표현)"
   ]
  },
  {
   "cell_type": "code",
   "execution_count": 3,
   "metadata": {},
   "outputs": [
    {
     "name": "stdout",
     "output_type": "stream",
     "text": [
      "4 7\n"
     ]
    }
   ],
   "source": [
    "def binary_search(array, target, start, end):\n",
    "    # 원소 값이 없을경우 None을 반환\n",
    "    while start <= end:\n",
    "        # 중앙값은 start와 end의 값에서 소숫점을 버린 값\n",
    "        mid = (start + end) // 2\n",
    "        # 만양 중앙 인덱스가 target과 같으면 끝\n",
    "        if array[mid] == target:\n",
    "            return mid\n",
    "        # 만약 중앙값이 찾는값보다 작으면, 왼쪽 영역 확인\n",
    "        elif array[mid] > target: \n",
    "            end = mid - 1 # 재귀에서 end에 들어가는 인자값만 변경    \n",
    "        # 만약 중앙값이 찾는값보다 크면, 오른쪽 영역 확인\n",
    "        else:\n",
    "            start = mid + 1  # 재귀에서 start에 들어가는 인자값만 변경\n",
    "    return None\n",
    "\n",
    "n, target = list(map(int, input().split()))\n",
    "array = list(map(int, input().split()))\n",
    "\n",
    "result = binary_search(array, target, 0, n-1)\n",
    "\n",
    "if result == None:\n",
    "    print(-1)\n",
    "else:\n",
    "    print(result+1, array[result])"
   ]
  },
  {
   "cell_type": "markdown",
   "metadata": {},
   "source": [
    "값이 특정 범위 내에 속하는 데이터 개수 구하기"
   ]
  },
  {
   "cell_type": "code",
   "execution_count": 4,
   "metadata": {},
   "outputs": [
    {
     "name": "stdout",
     "output_type": "stream",
     "text": [
      "2\n",
      "6\n"
     ]
    }
   ],
   "source": [
    "from bisect import bisect_left, bisect_right\n",
    "\n",
    "def count_by_range(a, left_value, right_value):\n",
    "    return bisect_right(a, right_value) - bisect_left(a, left_value)\n",
    "\n",
    "a = [1, 2, 3, 3, 3, 3, 4, 4, 8, 9]\n",
    "\n",
    "# 값이 4인 데이터의 개수를 출력하라\n",
    "print(count_by_range(a, 4, 4))\n",
    "# 값이 -1 ~ 3범위 내에있는 데이터의 개수를 출력하라\n",
    "print(count_by_range(a, -1, 3))"
   ]
  }
 ],
 "metadata": {
  "interpreter": {
   "hash": "63fd5069d213b44bf678585dea6b12cceca9941eaf7f819626cde1f2670de90d"
  },
  "kernelspec": {
   "display_name": "Python 3.9.5 64-bit",
   "name": "python3"
  },
  "language_info": {
   "codemirror_mode": {
    "name": "ipython",
    "version": 3
   },
   "file_extension": ".py",
   "mimetype": "text/x-python",
   "name": "python",
   "nbconvert_exporter": "python",
   "pygments_lexer": "ipython3",
   "version": "3.9.5"
  },
  "orig_nbformat": 4
 },
 "nbformat": 4,
 "nbformat_minor": 2
}
